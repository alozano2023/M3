{
 "cells": [
  {
   "cell_type": "markdown",
   "id": "ed8ff3d8-d0fc-4704-a5cc-e6fa7058386e",
   "metadata": {
    "tags": []
   },
   "source": [
    "####  S'ha de fer una aplicació que generi un número a l'atzar, i digui quines serien les característiques d'aquest número a la ruleta francesa.  En negreta estan marcats les funcionalitats que puntuen.  Veure rúbrica pera més detall. \n",
    "\n",
    "####  S'ha de demanar l'edat a l'usuari i només començarà a jugar si és major d'edat.  Si no, s'ha de mostrar un missatge prohibint l'accés, i finalitza el programa (1,5pt).\n",
    "\n",
    "####  Si l'usuari és major d'edat, llavors, se li ha de demanar que premi una tecla per fer una jugada.  Un cop ha premut la tecla, s'ha de generar un número aleatori i mostrar-lo per pantalla (1pt).\n",
    "\n",
    "####  A continuació, en les següents línies s'ha de dir si el número és:\n",
    "\n",
    "####  Vermell o negre (2,5pt)\n",
    "\n",
    "####  Par o impar (1pt)\n",
    "\n",
    "####  Falta o pasa (1pt)\n",
    "\n",
    "####  Primer, segon, otercer terç (1pt)\n",
    "\n",
    "####  Primera, segona o tercera columna (1pt)\n",
    "\n",
    "#### Un cop s'ha mostrat aquesta informació, s'ha de mostrar un missatge a l'usuari per demanar-li que premi una tecla per veure la següent jugada.  El joc no acaba mai, i cada vegada que l'usuari prem una tecla s'ha de mostrar l'identificador de la jugada, de manera que la primera jugada serà la número 1, la següent la 2, i ainumeroí succesivament. (1pt)\n",
    "\n"
   ]
  },
  {
   "cell_type": "code",
   "execution_count": 8,
   "id": "bcfdf64a-59bc-47f9-ab5d-bc77425e27a1",
   "metadata": {
    "tags": []
   },
   "outputs": [
    {
     "name": "stdin",
     "output_type": "stream",
     "text": [
      "¿Cuantos años tienes? 19\n",
      "Pulsa Enter para jugar \n"
     ]
    },
    {
     "name": "stdout",
     "output_type": "stream",
     "text": [
      "Número de jugada: 1\n",
      "22\n",
      "Es negro\n",
      "Es par\n",
      "Pasa\n",
      "Segundo tercio\n",
      "Primera columna\n"
     ]
    },
    {
     "name": "stdin",
     "output_type": "stream",
     "text": [
      "Pulsa enter si quieres volver a jugar, escribe NO si quieres parar NO\n"
     ]
    }
   ],
   "source": [
    "import sys\n",
    "import random\n",
    "\n",
    "n_jugada = 1\n",
    "# Pedir edad al usuario y si no es mayor de edad prohibir el acceso (cerrar el programa)\n",
    "# Si es mayor de edad jugar con un número aleatorio\n",
    "edad = int(input(\"¿Cuantos años tienes?\"))\n",
    "if edad < 18:\n",
    "    sys.exit(\"Has de ser major d'edad per a jugar. Els jocs d'atzar poden crear adicció. Si ets major d'edat, juga responsablement. \")\n",
    "else:\n",
    "    input(\"Pulsa Enter para jugar\")\n",
    "\n",
    "while n_jugada < 100:\n",
    "    numero = random.randint(0,36)\n",
    "    # Muestra el número con el que juega el usuario\n",
    "    print(\"Número de jugada:\",n_jugada)\n",
    "    print(numero)\n",
    "    if numero == 0:\n",
    "        print(\"La banca gana!\")\n",
    "    else:\n",
    "\n",
    "    # Rojo o negro\n",
    "        if numero == 32 or numero == 19 or numero == 21 or numero == 25 or numero == 34 or numero == 27 or numero == 36 or numero == 30 or numero == 23 or numero == 5 or numero == 16 or numero == 1 or numero == 14 or numero == 9 or numero == 18 or numero == 7 or numero == 12 or numero == 3:\n",
    "            print(\"Es rojo\")\n",
    "        elif numero == 15 or numero == 4 or numero == 2 or numero == 17 or numero == 6 or numero == 13 or numero == 11 or numero == 8 or numero == 10 or numero == 24 or numero == 33 or numero == 20 or numero == 31 or numero == 22 or numero == 29 or numero == 28 or numero == 35 or numero == 26:\n",
    "            print(\"Es negro\")\n",
    "\n",
    "    # Par o impar\n",
    "        if numero % 2 == 0:\n",
    "            print(\"Es par\")\n",
    "        else:\n",
    "            print(\"Es impar\")\n",
    "\n",
    "    # Falta (1-18) o pasa (los demás)\n",
    "        if 1 <= numero <= 18:\n",
    "            print(\"Falta\")\n",
    "        elif 19 <= numero <= 36:\n",
    "            print(\"Pasa\")\n",
    "\n",
    "    # Primer, segundo o tercer tercio\n",
    "        if  1 <= numero <= 12:\n",
    "            print(\"Primer tercio\")\n",
    "        elif  13 <= numero <= 24:\n",
    "            print(\"Segundo tercio\")\n",
    "        else:\n",
    "            print(\"Tercer tercio\")\n",
    "\n",
    "    # Primera, segunda o tercera columna\n",
    "        if numero in [1,4,7,10,13,16,19,22,25,28,31,34]:\n",
    "            print(\"Primera columna\")\n",
    "        elif numero in [2,5,8,11,14,17,20,23,26,29,32,35]:\n",
    "            print(\"Segunda columna\")\n",
    "        else:\n",
    "            print(\"Tercera columna\")\n",
    "\n",
    "    # Sumamos 1 al n_jugadas\n",
    "    n_jugada = (n_jugada + 1)\n",
    "    \n",
    "    # Volver a jugar\n",
    "    jugar_de_nuevo = input(\"Pulsa enter si quieres volver a jugar, escribe NO si quieres parar\")\n",
    "    if jugar_de_nuevo == \"NO\":\n",
    "        n_jugada = 100\n",
    "    "
   ]
  }
 ],
 "metadata": {
  "kernelspec": {
   "display_name": "Python 3",
   "language": "python",
   "name": "python3"
  },
  "language_info": {
   "codemirror_mode": {
    "name": "ipython",
    "version": 3
   },
   "file_extension": ".py",
   "mimetype": "text/x-python",
   "name": "python",
   "nbconvert_exporter": "python",
   "pygments_lexer": "ipython3",
   "version": "3.10.9"
  }
 },
 "nbformat": 4,
 "nbformat_minor": 5
}
